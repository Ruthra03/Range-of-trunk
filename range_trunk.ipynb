{
 "cells": [
  {
   "cell_type": "code",
   "execution_count": 1,
   "metadata": {},
   "outputs": [],
   "source": [
    "import cv2\n",
    "import numpy as np\n",
    "import matplotlib.pyplot as plt"
   ]
  },
  {
   "cell_type": "code",
   "execution_count": 2,
   "metadata": {},
   "outputs": [],
   "source": [
    "bgr_values = []\n",
    "hsv_values = []"
   ]
  },
  {
   "cell_type": "code",
   "execution_count": 3,
   "metadata": {},
   "outputs": [],
   "source": [
    "def mouse_display(event,x,y,flags,param):\n",
    "    if event==cv2.EVENT_LBUTTONDBLCLK:  #Works only if the event is left mouse double click\n",
    "        global bgr_values, hsv_values\n",
    "        bgr_color = image[y, x]  \n",
    "        hsv_color = hsv[y, x]    \n",
    "        \n",
    "        print(\"The BGR Values are:\", bgr_color)\n",
    "        bgr_values.append(bgr_color.tolist())  \n",
    "        print(\"The HSV Values are:\", hsv_color)\n",
    "        hsv_values.append(hsv_color.tolist())  "
   ]
  },
  {
   "cell_type": "code",
   "execution_count": 4,
   "metadata": {},
   "outputs": [
    {
     "name": "stdout",
     "output_type": "stream",
     "text": [
      "The BGR Values are: [138 117 120]\n",
      "The HSV Values are: [124  39 138]\n",
      "The BGR Values are: [107  84  88]\n",
      "The HSV Values are: [125  55 107]\n",
      "The BGR Values are: [107  83  85]\n",
      "The HSV Values are: [123  57 107]\n",
      "The BGR Values are: [121  96 100]\n",
      "The HSV Values are: [125  53 121]\n",
      "The BGR Values are: [121 104 108]\n",
      "The HSV Values are: [127  36 121]\n",
      "The BGR Values are: [91 77 83]\n",
      "The HSV Values are: [133  39  91]\n",
      "The BGR Values are: [116 109 112]\n",
      "The HSV Values are: [133  15 116]\n",
      "The BGR Values are: [98 92 97]\n",
      "The HSV Values are: [145  16  98]\n",
      "The BGR Values are: [75 72 81]\n",
      "The HSV Values are: [170  28  81]\n",
      "The BGR Values are: [ 89  96 105]\n",
      "The HSV Values are: [ 13  39 105]\n",
      "The BGR Values are: [125 129 140]\n",
      "The HSV Values are: [  8  27 140]\n",
      "The BGR Values are: [108 102 113]\n",
      "The HSV Values are: [164  25 113]\n",
      "The BGR Values are: [70 67 82]\n",
      "The HSV Values are: [174  47  82]\n",
      "The BGR Values are: [ 98  90 101]\n",
      "The HSV Values are: [158  28 101]\n",
      "The BGR Values are: [117 109 119]\n",
      "The HSV Values are: [156  21 119]\n",
      "The BGR Values are: [41 27 31]\n",
      "The HSV Values are: [129  87  41]\n",
      "The BGR Values are: [105  98 103]\n",
      "The HSV Values are: [141  17 105]\n",
      "The BGR Values are: [104  93  96]\n",
      "The HSV Values are: [128  27 104]\n",
      "The BGR Values are: [66 52 58]\n",
      "The HSV Values are: [133  54  66]\n",
      "The BGR Values are: [66 69 84]\n",
      "The HSV Values are: [ 5 55 84]\n",
      "The BGR Values are: [55 52 61]\n",
      "The HSV Values are: [170  38  61]\n",
      "The BGR Values are: [81 71 87]\n",
      "The HSV Values are: [161  47  87]\n",
      "The BGR Values are: [131 116 124]\n",
      "The HSV Values are: [136  29 131]\n",
      "The BGR Values are: [108 113 128]\n",
      "The HSV Values are: [  8  40 128]\n",
      "The BGR Values are: [125 137 147]\n",
      "The HSV Values are: [ 16  38 147]\n",
      "The BGR Values are: [ 89  89 103]\n",
      "The HSV Values are: [  0  35 103]\n",
      "The BGR Values are: [83 80 95]\n",
      "The HSV Values are: [174  40  95]\n",
      "The BGR Values are: [79 81 89]\n",
      "The HSV Values are: [ 6 29 89]\n"
     ]
    },
    {
     "data": {
      "text/plain": [
       "-1"
      ]
     },
     "execution_count": 4,
     "metadata": {},
     "output_type": "execute_result"
    }
   ],
   "source": [
    "image_path=r\"D:\\Open_cv\\5089427626493324244.jpg\" \n",
    "image=cv2.imread(image_path)\n",
    "hsv=cv2.cvtColor(image,cv2.COLOR_BGR2HSV)\n",
    "cv2.imshow(\"Original\",image)\n",
    "cv2.setMouseCallback(\"Original\",mouse_display)\n",
    "cv2.waitKey(0)"
   ]
  },
  {
   "cell_type": "code",
   "execution_count": 5,
   "metadata": {},
   "outputs": [
    {
     "name": "stdout",
     "output_type": "stream",
     "text": [
      "BGR Min Values: B=41, G=27, R=31\n",
      "BGR Max Values: B=138, G=137, R=147\n",
      "HSV Min Values: H=0, S=15, V=41\n",
      "HSV Max Values: H=174, S=87, V=147\n"
     ]
    }
   ],
   "source": [
    "bgr_array = np.array(bgr_values)\n",
    "hsv_array = np.array(hsv_values)\n",
    "\n",
    "# Min and max values for BGR\n",
    "bgr_min = np.min(bgr_array, axis=0)\n",
    "bgr_max = np.max(bgr_array, axis=0)\n",
    "\n",
    "# Min and max values for HSV\n",
    "hsv_min = np.min(hsv_array, axis=0)\n",
    "hsv_max = np.max(hsv_array, axis=0)\n",
    "\n",
    "print(\"BGR Min Values: B={}, G={}, R={}\".format(bgr_min[0], bgr_min[1], bgr_min[2]))\n",
    "print(\"BGR Max Values: B={}, G={}, R={}\".format(bgr_max[0], bgr_max[1], bgr_max[2]))\n",
    "\n",
    "print(\"HSV Min Values: H={}, S={}, V={}\".format(hsv_min[0], hsv_min[1], hsv_min[2]))\n",
    "print(\"HSV Max Values: H={}, S={}, V={}\".format(hsv_max[0], hsv_max[1], hsv_max[2]))"
   ]
  },
  {
   "cell_type": "code",
   "execution_count": null,
   "metadata": {},
   "outputs": [],
   "source": []
  }
 ],
 "metadata": {
  "kernelspec": {
   "display_name": "Python 3",
   "language": "python",
   "name": "python3"
  },
  "language_info": {
   "codemirror_mode": {
    "name": "ipython",
    "version": 3
   },
   "file_extension": ".py",
   "mimetype": "text/x-python",
   "name": "python",
   "nbconvert_exporter": "python",
   "pygments_lexer": "ipython3",
   "version": "3.12.1"
  }
 },
 "nbformat": 4,
 "nbformat_minor": 2
}
